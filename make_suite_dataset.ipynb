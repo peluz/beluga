{
 "cells": [
  {
   "cell_type": "code",
   "execution_count": null,
   "id": "41fd7c8c",
   "metadata": {},
   "outputs": [],
   "source": [
    "%load_ext autoreload\n",
    "%autoreload 2\n",
    "\n",
    "import pandas as pd\n",
    "import numpy as np\n",
    "from utils import initialize_seeds\n",
    "from sklearn.model_selection import train_test_split\n",
    "from datasets import Dataset, DatasetDict\n",
    "from pathlib import Path"
   ]
  },
  {
   "cell_type": "code",
   "execution_count": null,
   "id": "636db2b8",
   "metadata": {},
   "outputs": [],
   "source": [
    "initialize_seeds()"
   ]
  },
  {
   "cell_type": "code",
   "execution_count": null,
   "id": "7ff44955",
   "metadata": {},
   "outputs": [],
   "source": [
    "def df_to_dataset(df, seed=123):\n",
    "    train_df = pd.DataFrame()\n",
    "    val_df = pd.DataFrame()\n",
    "    test_df = pd.DataFrame()\n",
    "    for func in np.unique(df.functionality):\n",
    "        func_df = suite_df[suite_df.functionality == func]\n",
    "        ids = np.unique(func_df.test_id)\n",
    "        train_ids, valtest_ids = train_test_split(ids, test_size=0.5, random_state=seed)\n",
    "        val_ids, test_ids = train_test_split(valtest_ids, test_size=0.5, random_state=seed)\n",
    "        train_df = pd.concat([train_df, func_df[func_df[\"test_id\"].isin(train_ids)]], axis=0)\n",
    "        val_df = pd.concat([val_df, func_df[func_df[\"test_id\"].isin(val_ids)]], axis=0)\n",
    "        test_df = pd.concat([test_df, func_df[func_df[\"test_id\"].isin(test_ids)]], axis=0)\n",
    "    train_dataset = Dataset.from_pandas(train_df).rename_columns({\"__index_level_0__\": \"id\"}).sort(\"id\")\n",
    "    val_dataset = Dataset.from_pandas(val_df).rename_columns({\"__index_level_0__\": \"id\"}).sort(\"id\")\n",
    "    test_dataset = Dataset.from_pandas(test_df).rename_columns({\"__index_level_0__\": \"id\"}).sort(\"id\")\n",
    "    return DatasetDict(train=train_dataset, validation=val_dataset, test=test_dataset)"
   ]
  },
  {
   "cell_type": "markdown",
   "id": "57a302d3",
   "metadata": {},
   "source": [
    "## Sentiment Analysis"
   ]
  },
  {
   "cell_type": "code",
   "execution_count": null,
   "id": "ae3af92a",
   "metadata": {},
   "outputs": [],
   "source": [
    "data_path =  Path(\"./data/sa/\")"
   ]
  },
  {
   "cell_type": "code",
   "execution_count": null,
   "id": "57d9b441",
   "metadata": {},
   "outputs": [],
   "source": [
    "suite_df = pd.read_csv(data_path/\"sa.csv\", dtype=object)"
   ]
  },
  {
   "cell_type": "code",
   "execution_count": null,
   "id": "5a0c105b",
   "metadata": {},
   "outputs": [],
   "source": [
    "suite_df"
   ]
  },
  {
   "cell_type": "code",
   "execution_count": null,
   "id": "1621883e",
   "metadata": {},
   "outputs": [],
   "source": [
    "len(pd.unique(suite_df.functionality)), len(pd.unique(suite_df.capability))"
   ]
  },
  {
   "cell_type": "code",
   "execution_count": null,
   "id": "ead807ee",
   "metadata": {},
   "outputs": [],
   "source": [
    "pd.unique(suite_df.capability)"
   ]
  },
  {
   "cell_type": "code",
   "execution_count": null,
   "id": "8cc8fd8f",
   "metadata": {},
   "outputs": [],
   "source": [
    "suite_df.drop_duplicates([\"test_id\", \"functionality\"]).type.value_counts()"
   ]
  },
  {
   "cell_type": "code",
   "execution_count": null,
   "id": "e6462769",
   "metadata": {},
   "outputs": [],
   "source": [
    "suite_df.test_id = pd.to_numeric(suite_df.test_id)"
   ]
  },
  {
   "cell_type": "code",
   "execution_count": null,
   "id": "55f3d3a6",
   "metadata": {},
   "outputs": [],
   "source": [
    "suite_df.dtypes"
   ]
  },
  {
   "cell_type": "code",
   "execution_count": null,
   "id": "e4307edc",
   "metadata": {},
   "outputs": [],
   "source": [
    "datasets = df_to_dataset(suite_df)"
   ]
  },
  {
   "cell_type": "code",
   "execution_count": null,
   "id": "98675459",
   "metadata": {},
   "outputs": [],
   "source": [
    "datasets"
   ]
  },
  {
   "cell_type": "code",
   "execution_count": null,
   "id": "c47f6c1e",
   "metadata": {},
   "outputs": [],
   "source": [
    "datasets.save_to_disk(data_path/\"sa\")"
   ]
  },
  {
   "cell_type": "markdown",
   "id": "03f62e7a",
   "metadata": {},
   "source": [
    "## QQP"
   ]
  },
  {
   "cell_type": "code",
   "execution_count": null,
   "id": "c9c1d260",
   "metadata": {},
   "outputs": [],
   "source": [
    "data_path =  Path(\"./data/qqp/\")"
   ]
  },
  {
   "cell_type": "code",
   "execution_count": null,
   "id": "5e46c112",
   "metadata": {},
   "outputs": [],
   "source": [
    "suite_df = pd.read_csv(data_path/\"qqp.csv\", dtype=object)"
   ]
  },
  {
   "cell_type": "code",
   "execution_count": null,
   "id": "465e024b",
   "metadata": {},
   "outputs": [],
   "source": [
    "suite_df.groupby(\"functionality\").sample(1)"
   ]
  },
  {
   "cell_type": "code",
   "execution_count": null,
   "id": "5b9e6d85",
   "metadata": {},
   "outputs": [],
   "source": [
    "from ast import literal_eval\n",
    "\n",
    "suite_df['test_case'] = suite_df.test_case.apply(lambda x: literal_eval(x))"
   ]
  },
  {
   "cell_type": "code",
   "execution_count": null,
   "id": "230b7148",
   "metadata": {},
   "outputs": [],
   "source": [
    "q1, q2 = list(zip(*suite_df['test_case']))"
   ]
  },
  {
   "cell_type": "code",
   "execution_count": null,
   "id": "73d08a87",
   "metadata": {},
   "outputs": [],
   "source": [
    "q1[:3], q2[:3]"
   ]
  },
  {
   "cell_type": "code",
   "execution_count": null,
   "id": "3aeb1a0f",
   "metadata": {},
   "outputs": [],
   "source": [
    "suite_df[\"question1\"] = q1\n",
    "suite_df[\"question2\"] = q2"
   ]
  },
  {
   "cell_type": "code",
   "execution_count": null,
   "id": "f739715e",
   "metadata": {},
   "outputs": [],
   "source": [
    "del suite_df[\"test_case\"]"
   ]
  },
  {
   "cell_type": "code",
   "execution_count": null,
   "id": "1eb1d154",
   "metadata": {},
   "outputs": [],
   "source": [
    "suite_df.groupby(\"functionality\").sample(1)"
   ]
  },
  {
   "cell_type": "code",
   "execution_count": null,
   "id": "8852ebd3",
   "metadata": {},
   "outputs": [],
   "source": [
    "suite_df[suite_df[\"question1\"].str.contains(\"What will happen if Donald Trump gets elected\")]"
   ]
  },
  {
   "cell_type": "code",
   "execution_count": null,
   "id": "60b3efc9",
   "metadata": {},
   "outputs": [],
   "source": [
    "suite_df.dtypes"
   ]
  },
  {
   "cell_type": "code",
   "execution_count": null,
   "id": "73f6b2dd",
   "metadata": {},
   "outputs": [],
   "source": [
    "suite_df.test_id = pd.to_numeric(suite_df.test_id)"
   ]
  },
  {
   "cell_type": "code",
   "execution_count": null,
   "id": "44cbd1f7",
   "metadata": {},
   "outputs": [],
   "source": [
    "len(pd.unique(suite_df.functionality)), len(pd.unique(suite_df.capability))"
   ]
  },
  {
   "cell_type": "code",
   "execution_count": null,
   "id": "3f3ad2cc",
   "metadata": {},
   "outputs": [],
   "source": [
    "pd.unique(suite_df.capability)"
   ]
  },
  {
   "cell_type": "code",
   "execution_count": null,
   "id": "94b18a46",
   "metadata": {},
   "outputs": [],
   "source": [
    "suite_df.drop_duplicates([\"test_id\", \"functionality\"]).type.value_counts()"
   ]
  },
  {
   "cell_type": "code",
   "execution_count": null,
   "id": "a10f5f11",
   "metadata": {},
   "outputs": [],
   "source": [
    "datasets = df_to_dataset(suite_df)"
   ]
  },
  {
   "cell_type": "code",
   "execution_count": null,
   "id": "c693b83b",
   "metadata": {
    "scrolled": true
   },
   "outputs": [],
   "source": [
    "datasets"
   ]
  },
  {
   "cell_type": "code",
   "execution_count": null,
   "id": "3178f69e",
   "metadata": {},
   "outputs": [],
   "source": [
    "datasets.save_to_disk(data_path/\"qqp\")"
   ]
  },
  {
   "cell_type": "markdown",
   "id": "8f80914d",
   "metadata": {},
   "source": [
    "## Squad"
   ]
  },
  {
   "cell_type": "code",
   "execution_count": null,
   "id": "60d7c9cd",
   "metadata": {},
   "outputs": [],
   "source": [
    "data_path =  Path(\"./data/squad/\")"
   ]
  },
  {
   "cell_type": "code",
   "execution_count": null,
   "id": "4c957181",
   "metadata": {},
   "outputs": [],
   "source": [
    "suite_df = pd.read_csv(data_path/\"squad.csv\", dtype=object)"
   ]
  },
  {
   "cell_type": "code",
   "execution_count": null,
   "id": "a66f677e",
   "metadata": {},
   "outputs": [],
   "source": [
    "suite_df.groupby(\"functionality\").sample(1)"
   ]
  },
  {
   "cell_type": "code",
   "execution_count": null,
   "id": "24ea6d89",
   "metadata": {},
   "outputs": [],
   "source": [
    "suite_df['test_case'] = suite_df.test_case.apply(lambda x: literal_eval(x))"
   ]
  },
  {
   "cell_type": "code",
   "execution_count": null,
   "id": "09cab54d",
   "metadata": {},
   "outputs": [],
   "source": [
    "c, q = list(zip(*suite_df['test_case']))"
   ]
  },
  {
   "cell_type": "code",
   "execution_count": null,
   "id": "9edd8b76",
   "metadata": {},
   "outputs": [],
   "source": [
    "c[:3], q[:3]"
   ]
  },
  {
   "cell_type": "code",
   "execution_count": null,
   "id": "012381b5",
   "metadata": {},
   "outputs": [],
   "source": [
    "suite_df[\"context\"] = c\n",
    "suite_df[\"question\"] = q"
   ]
  },
  {
   "cell_type": "code",
   "execution_count": null,
   "id": "0e78e792",
   "metadata": {},
   "outputs": [],
   "source": [
    "del suite_df[\"test_case\"]"
   ]
  },
  {
   "cell_type": "code",
   "execution_count": null,
   "id": "0eec198c",
   "metadata": {},
   "outputs": [],
   "source": [
    "suite_df.groupby(\"functionality\").sample(1)"
   ]
  },
  {
   "cell_type": "code",
   "execution_count": null,
   "id": "21b302e3",
   "metadata": {},
   "outputs": [],
   "source": [
    "suite_df.label = suite_df.label.fillna('NaN')"
   ]
  },
  {
   "cell_type": "code",
   "execution_count": null,
   "id": "653a2f63",
   "metadata": {},
   "outputs": [],
   "source": [
    "answers = [{\"text\": [label], 'answer_start': [context.find(label)]} for label, context in zip(suite_df.label, suite_df.context)]"
   ]
  },
  {
   "cell_type": "code",
   "execution_count": null,
   "id": "67dbd7d2",
   "metadata": {},
   "outputs": [],
   "source": [
    "suite_df[\"answers\"] = answers"
   ]
  },
  {
   "cell_type": "code",
   "execution_count": null,
   "id": "03851fa1",
   "metadata": {},
   "outputs": [],
   "source": [
    "del suite_df[\"label\"]"
   ]
  },
  {
   "cell_type": "code",
   "execution_count": null,
   "id": "55e6c905",
   "metadata": {},
   "outputs": [],
   "source": [
    "suite_df.test_id = pd.to_numeric(suite_df.test_id)"
   ]
  },
  {
   "cell_type": "code",
   "execution_count": null,
   "id": "a153c4bb",
   "metadata": {},
   "outputs": [],
   "source": [
    "suite_df.dtypes"
   ]
  },
  {
   "cell_type": "code",
   "execution_count": null,
   "id": "89278a5a",
   "metadata": {
    "scrolled": true
   },
   "outputs": [],
   "source": [
    "len(pd.unique(suite_df.functionality)), len(pd.unique(suite_df.capability))"
   ]
  },
  {
   "cell_type": "code",
   "execution_count": null,
   "id": "2f11685f",
   "metadata": {},
   "outputs": [],
   "source": [
    "pd.unique(suite_df.capability)"
   ]
  },
  {
   "cell_type": "code",
   "execution_count": null,
   "id": "7be43c29",
   "metadata": {},
   "outputs": [],
   "source": [
    "suite_df.drop_duplicates([\"test_id\", \"functionality\"]).type.value_counts()"
   ]
  },
  {
   "cell_type": "code",
   "execution_count": null,
   "id": "ed79e86c",
   "metadata": {},
   "outputs": [],
   "source": [
    "datasets = df_to_dataset(suite_df)"
   ]
  },
  {
   "cell_type": "code",
   "execution_count": null,
   "id": "cd25c002",
   "metadata": {},
   "outputs": [],
   "source": [
    "datasets"
   ]
  },
  {
   "cell_type": "code",
   "execution_count": null,
   "id": "1270c9e5",
   "metadata": {},
   "outputs": [],
   "source": [
    "datasets.save_to_disk(data_path/\"squad\")"
   ]
  }
 ],
 "metadata": {
  "kernelspec": {
   "display_name": "checking-checkList",
   "language": "python",
   "name": "checking-checklist"
  },
  "language_info": {
   "codemirror_mode": {
    "name": "ipython",
    "version": 3
   },
   "file_extension": ".py",
   "mimetype": "text/x-python",
   "name": "python",
   "nbconvert_exporter": "python",
   "pygments_lexer": "ipython3",
   "version": "3.9.5"
  }
 },
 "nbformat": 4,
 "nbformat_minor": 5
}
