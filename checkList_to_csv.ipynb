{
 "cells": [
  {
   "cell_type": "code",
   "execution_count": null,
   "id": "bc6dbc40",
   "metadata": {},
   "outputs": [],
   "source": [
    "%load_ext autoreload\n",
    "%autoreload 2\n",
    "\n",
    "import checklist\n",
    "import pickle\n",
    "from checklist.test_suite import TestSuite\n",
    "from suite_utils import get_test_info\n",
    "import pandas as pd"
   ]
  },
  {
   "cell_type": "code",
   "execution_count": null,
   "id": "459f6bc9",
   "metadata": {},
   "outputs": [],
   "source": [
    "try:\n",
    "    suite_path = './data/release_data/sentiment/sentiment_suite.pkl'\n",
    "    suite = TestSuite.from_file(suite_path)\n",
    "except FileNotFoundError:\n",
    "    print(\"Downloading CheckList release files...\")\n",
    "    ! wget -P \"./data\" https://github.com/marcotcr/checklist/raw/master/release_data.tar.gz\n",
    "    ! tar xvzf data/release_data.tar.gz -C ./data\n",
    "    suite_path = './data/release_data/sentiment/sentiment_suite.pkl'\n",
    "    suite = TestSuite.from_file(suite_path)"
   ]
  },
  {
   "cell_type": "markdown",
   "id": "ef482422",
   "metadata": {},
   "source": [
    "## Sentiment"
   ]
  },
  {
   "cell_type": "code",
   "execution_count": null,
   "id": "2dd80b8a",
   "metadata": {},
   "outputs": [],
   "source": [
    "pred_path = './data/release_data/sentiment/predictions/bert'"
   ]
  },
  {
   "cell_type": "code",
   "execution_count": null,
   "id": "71ca3b3d",
   "metadata": {},
   "outputs": [],
   "source": [
    "suite.run_from_file(pred_path, overwrite=True)"
   ]
  },
  {
   "cell_type": "code",
   "execution_count": null,
   "id": "35020d96",
   "metadata": {},
   "outputs": [],
   "source": [
    "suite.visual_summary_table()"
   ]
  },
  {
   "cell_type": "code",
   "execution_count": null,
   "id": "225d581a",
   "metadata": {},
   "outputs": [],
   "source": [
    "def suite_to_df(suite):\n",
    "    suite_df = pd.DataFrame()\n",
    "    for test_name, test in suite.tests.items():\n",
    "        df = pd.DataFrame()\n",
    "        test_cases, test_ids = test.example_list_and_indices()\n",
    "        df[\"test_case\"] = test_cases\n",
    "        df[\"test_id\"] = test_ids\n",
    "        if test.labels is not None and not isinstance(test.labels, int) and not isinstance(test.labels[0], (int, str)): ## label is list of lists and has to be flattened\n",
    "            df[\"label\"] = [item for sublist in test.labels for item in sublist]\n",
    "        else:\n",
    "            df[\"label\"] = test.labels\n",
    "        df[\"capability\"] = test.capability\n",
    "        df[\"functionality\"] = test.name\n",
    "        df[\"type\"] = test.form_test_info()[\"type\"]\n",
    "        suite_df = pd.concat([suite_df, df], axis=0, ignore_index=True)\n",
    "    return suite_df"
   ]
  },
  {
   "cell_type": "code",
   "execution_count": null,
   "id": "89736153",
   "metadata": {},
   "outputs": [],
   "source": [
    "suite_df = suite_to_df(suite); suite_df"
   ]
  },
  {
   "cell_type": "code",
   "execution_count": null,
   "id": "dca208fb",
   "metadata": {},
   "outputs": [],
   "source": [
    "suite_df[suite_df.functionality == \"reducers\"]"
   ]
  },
  {
   "cell_type": "code",
   "execution_count": null,
   "id": "3262188d",
   "metadata": {},
   "outputs": [],
   "source": [
    "suite_df[suite_df.type == \"dir\"].groupby([\"functionality\"]).sample(1)"
   ]
  },
  {
   "cell_type": "code",
   "execution_count": null,
   "id": "a3a98d44",
   "metadata": {},
   "outputs": [],
   "source": [
    "suite_df.loc[suite_df.functionality == '\"used to\" should reduce', \"direction\"] = \"not_more_conf\"\n",
    "suite_df.loc[suite_df.functionality == '\"used to\" should reduce', \"slice\"] = \"not_1\""
   ]
  },
  {
   "cell_type": "code",
   "execution_count": null,
   "id": "4c5115d8",
   "metadata": {},
   "outputs": [],
   "source": [
    "suite_df.loc[suite_df.functionality == 'add negative phrases', \"direction\"] = \"not_less_0\""
   ]
  },
  {
   "cell_type": "code",
   "execution_count": null,
   "id": "3ae302f4",
   "metadata": {},
   "outputs": [],
   "source": [
    "suite_df.loc[suite_df.functionality == 'add positive phrases', \"direction\"] = \"not_less_2\""
   ]
  },
  {
   "cell_type": "code",
   "execution_count": null,
   "id": "1a7d89e2",
   "metadata": {},
   "outputs": [],
   "source": [
    "suite_df.loc[suite_df.functionality == 'intensifiers', \"direction\"] = \"not_less_conf\"\n",
    "suite_df.loc[suite_df.functionality == 'intensifiers', \"slice\"] = \"not_1\""
   ]
  },
  {
   "cell_type": "code",
   "execution_count": null,
   "id": "18ca8c69",
   "metadata": {},
   "outputs": [],
   "source": [
    "suite_df.loc[suite_df.functionality == 'reducers', \"direction\"] = \"not_more_conf\"\n",
    "suite_df.loc[suite_df.functionality == 'reducers', \"slice\"] = \"not_1\""
   ]
  },
  {
   "cell_type": "code",
   "execution_count": null,
   "id": "a09eb342",
   "metadata": {},
   "outputs": [],
   "source": [
    "suite_df[suite_df.type == \"inv\"].groupby([\"functionality\"]).sample(1)"
   ]
  },
  {
   "cell_type": "code",
   "execution_count": null,
   "id": "f31e3b86",
   "metadata": {},
   "outputs": [],
   "source": [
    "suite_df[suite_df.type == \"mft\"].groupby([\"functionality\"]).sample(1)"
   ]
  },
  {
   "cell_type": "code",
   "execution_count": null,
   "id": "ffb36d71",
   "metadata": {},
   "outputs": [],
   "source": [
    "suite_df.loc[suite_df.functionality == \"simple negations: not negative\", \"label\"] = \"not_0\"\n",
    "suite_df.loc[suite_df.functionality == \"simple negations: I thought x was negative, but it was not (should be neutral or positive)\", \"label\"] = \"not_0\"\n",
    "suite_df.loc[suite_df.functionality == \"Hard: Negation of negative with neutral stuff in the middle (should be positive or neutral)\", \"label\"] = \"not_0\""
   ]
  },
  {
   "cell_type": "code",
   "execution_count": null,
   "id": "c6aaead4",
   "metadata": {},
   "outputs": [],
   "source": [
    "suite_df.groupby([\"functionality\"]).sample(1)"
   ]
  },
  {
   "cell_type": "code",
   "execution_count": null,
   "id": "62b658b4",
   "metadata": {},
   "outputs": [],
   "source": [
    "suite_df.dtypes"
   ]
  },
  {
   "cell_type": "code",
   "execution_count": null,
   "id": "37d868fa",
   "metadata": {},
   "outputs": [],
   "source": [
    "suite_df.to_csv(\"data/sa/sa.csv\", index=False)"
   ]
  },
  {
   "cell_type": "markdown",
   "id": "ed178c45",
   "metadata": {},
   "source": [
    "## Quora Question Pair"
   ]
  },
  {
   "cell_type": "code",
   "execution_count": null,
   "id": "628d06a3",
   "metadata": {},
   "outputs": [],
   "source": [
    "suite_path = './data/release_data/qqp/qqp_suite.pkl'\n",
    "suite = TestSuite.from_file(suite_path)"
   ]
  },
  {
   "cell_type": "code",
   "execution_count": null,
   "id": "95efc010",
   "metadata": {},
   "outputs": [],
   "source": [
    "pred_path = './data/release_data/qqp/predictions/bert'"
   ]
  },
  {
   "cell_type": "code",
   "execution_count": null,
   "id": "1a6f58b5",
   "metadata": {},
   "outputs": [],
   "source": [
    "suite.run_from_file(pred_path, overwrite=True, file_format='binary_conf')"
   ]
  },
  {
   "cell_type": "code",
   "execution_count": null,
   "id": "dab30ee7",
   "metadata": {},
   "outputs": [],
   "source": [
    "suite.visual_summary_table()"
   ]
  },
  {
   "cell_type": "code",
   "execution_count": null,
   "id": "909113cc",
   "metadata": {},
   "outputs": [],
   "source": [
    "get_test_info(suite)"
   ]
  },
  {
   "cell_type": "code",
   "execution_count": null,
   "id": "46315da9",
   "metadata": {},
   "outputs": [],
   "source": [
    "suite_df = suite_to_df(suite); suite_df"
   ]
  },
  {
   "cell_type": "code",
   "execution_count": null,
   "id": "70c41cac",
   "metadata": {},
   "outputs": [],
   "source": [
    "suite_df[suite_df.type == \"mft\"].groupby([\"functionality\"]).sample(1)"
   ]
  },
  {
   "cell_type": "code",
   "execution_count": null,
   "id": "e635f4a5",
   "metadata": {
    "scrolled": true
   },
   "outputs": [],
   "source": [
    "suite_df[suite_df.type == \"dir\"].groupby([\"functionality\"]).sample(1)"
   ]
  },
  {
   "cell_type": "code",
   "execution_count": null,
   "id": "3dffebfd",
   "metadata": {},
   "outputs": [],
   "source": [
    "suite_df[suite_df.type == \"inv\"].groupby([\"functionality\"]).sample(1)"
   ]
  },
  {
   "cell_type": "code",
   "execution_count": null,
   "id": "7bb1e571",
   "metadata": {},
   "outputs": [],
   "source": [
    "suite_df.loc[suite_df.functionality == \"(q, paraphrase(q))\", \"direction\"] = \"label\"\n",
    "suite_df.loc[suite_df.functionality == \"(q, paraphrase(q))\", \"label\"]  = \"1\""
   ]
  },
  {
   "cell_type": "code",
   "execution_count": null,
   "id": "04018d0c",
   "metadata": {},
   "outputs": [],
   "source": [
    "suite_df.loc[suite_df.functionality == \"Change first and last name in one of the questions\", \"direction\"] = \"label\"\n",
    "suite_df.loc[suite_df.functionality == \"Change first and last name in one of the questions\", \"label\"] = \"0\"\n",
    "suite_df.loc[suite_df.functionality == \"Change first and last name in one of the questions\", \"slice\"] = \"1\""
   ]
  },
  {
   "cell_type": "code",
   "execution_count": null,
   "id": "0548e85b",
   "metadata": {},
   "outputs": [],
   "source": [
    "suite_df.loc[suite_df.functionality == \"Change first name in one of the questions\", \"direction\"] = \"label\"\n",
    "suite_df.loc[suite_df.functionality == \"Change first name in one of the questions\", \"label\"] = \"0\"\n",
    "suite_df.loc[suite_df.functionality == \"Change first name in one of the questions\", \"slice\"] = \"1\""
   ]
  },
  {
   "cell_type": "code",
   "execution_count": null,
   "id": "7f06602e",
   "metadata": {},
   "outputs": [],
   "source": [
    "suite_df.loc[suite_df.functionality == \"Change location in one of the questions\", \"direction\"] = \"label\"\n",
    "suite_df.loc[suite_df.functionality == \"Change location in one of the questions\", \"label\"] = \"0\"\n",
    "suite_df.loc[suite_df.functionality == \"Change location in one of the questions\", \"slice\"] = \"1\""
   ]
  },
  {
   "cell_type": "code",
   "execution_count": null,
   "id": "ee2cc157",
   "metadata": {},
   "outputs": [],
   "source": [
    "suite_df.loc[suite_df.functionality == \"Change numbers in one of the questions\", \"direction\"] = \"label\"\n",
    "suite_df.loc[suite_df.functionality == \"Change numbers in one of the questions\", \"label\"] = \"0\"\n",
    "suite_df.loc[suite_df.functionality == \"Change numbers in one of the questions\", \"slice\"] = \"1\""
   ]
  },
  {
   "cell_type": "code",
   "execution_count": null,
   "id": "9315e4ce",
   "metadata": {},
   "outputs": [],
   "source": [
    "suite_df.loc[suite_df.functionality == \"Keep entitites, fill in with gibberish\", \"direction\"] = \"label\"\n",
    "suite_df.loc[suite_df.functionality == \"Keep entitites, fill in with gibberish\", \"label\"] = \"0\""
   ]
  },
  {
   "cell_type": "code",
   "execution_count": null,
   "id": "9ba128db",
   "metadata": {},
   "outputs": [],
   "source": [
    "suite_df.loc[suite_df.functionality == \"Testing implications\", \"direction\"] = \"label\""
   ]
  },
  {
   "cell_type": "code",
   "execution_count": null,
   "id": "03a08cce",
   "metadata": {},
   "outputs": [],
   "source": [
    "# original lable incorrect\n",
    "suite_df.loc[suite_df.functionality == \"Order does matter for asymmetric relations\", \"label\"] = \"0\""
   ]
  },
  {
   "cell_type": "code",
   "execution_count": null,
   "id": "1f5bd324",
   "metadata": {},
   "outputs": [],
   "source": [
    "# As implemented, it seem as it is actually a MFT\n",
    "suite_df.loc[suite_df.functionality == \"(question, f(question)) where f(question) replaces synonyms?\", \"label\"] = \"1\"\n",
    "suite_df.loc[suite_df.functionality == \"(question, f(question)) where f(question) replaces synonyms?\", \"type\"] = \"mft\""
   ]
  },
  {
   "cell_type": "code",
   "execution_count": null,
   "id": "e76304df",
   "metadata": {},
   "outputs": [],
   "source": [
    "suite_df.groupby([\"functionality\"]).sample(1)"
   ]
  },
  {
   "cell_type": "code",
   "execution_count": null,
   "id": "cf9bb157",
   "metadata": {},
   "outputs": [],
   "source": [
    "suite_df.to_csv(\"data/qqp/qqp.csv\", index=False)"
   ]
  },
  {
   "cell_type": "markdown",
   "id": "8438c693",
   "metadata": {},
   "source": [
    "## Machine Comprehension"
   ]
  },
  {
   "cell_type": "code",
   "execution_count": null,
   "id": "37260c45",
   "metadata": {},
   "outputs": [],
   "source": [
    "suite_path = './data/release_data/squad/squad_suite.pkl'\n",
    "suite = TestSuite.from_file(suite_path)"
   ]
  },
  {
   "cell_type": "code",
   "execution_count": null,
   "id": "c2517847",
   "metadata": {},
   "outputs": [],
   "source": [
    "pred_path = './data/release_data/squad/predictions/bert'"
   ]
  },
  {
   "cell_type": "code",
   "execution_count": null,
   "id": "8f593431",
   "metadata": {},
   "outputs": [],
   "source": [
    "suite.run_from_file(pred_path, overwrite=True, file_format='pred_only')"
   ]
  },
  {
   "cell_type": "code",
   "execution_count": null,
   "id": "1d1b66a4",
   "metadata": {},
   "outputs": [],
   "source": [
    "suite.visual_summary_table()"
   ]
  },
  {
   "cell_type": "code",
   "execution_count": null,
   "id": "46b93bd5",
   "metadata": {},
   "outputs": [],
   "source": [
    "get_test_info(suite)"
   ]
  },
  {
   "cell_type": "code",
   "execution_count": null,
   "id": "2d8210b7",
   "metadata": {},
   "outputs": [],
   "source": [
    "suite_df = suite_to_df(suite); suite_df"
   ]
  },
  {
   "cell_type": "code",
   "execution_count": null,
   "id": "ea97d1a5",
   "metadata": {},
   "outputs": [],
   "source": [
    "suite_df[suite_df.type == \"mft\"].groupby([\"functionality\"]).sample(1)"
   ]
  },
  {
   "cell_type": "code",
   "execution_count": null,
   "id": "8f3cd306",
   "metadata": {},
   "outputs": [],
   "source": [
    "suite_df[suite_df.type == \"inv\"].groupby([\"functionality\"]).sample(1)"
   ]
  },
  {
   "cell_type": "code",
   "execution_count": null,
   "id": "b9c72a2c",
   "metadata": {},
   "outputs": [],
   "source": [
    "suite_df.groupby([\"functionality\"]).sample(1)"
   ]
  },
  {
   "cell_type": "code",
   "execution_count": null,
   "id": "f51fab58",
   "metadata": {},
   "outputs": [],
   "source": [
    "suite_df.to_csv(\"data/squad/squad.csv\", index=False)"
   ]
  },
  {
   "cell_type": "code",
   "execution_count": null,
   "id": "ca2b052b",
   "metadata": {},
   "outputs": [],
   "source": []
  }
 ],
 "metadata": {
  "kernelspec": {
   "display_name": "checkList",
   "language": "python",
   "name": "checklist"
  },
  "language_info": {
   "codemirror_mode": {
    "name": "ipython",
    "version": 3
   },
   "file_extension": ".py",
   "mimetype": "text/x-python",
   "name": "python",
   "nbconvert_exporter": "python",
   "pygments_lexer": "ipython3",
   "version": "3.6.15"
  }
 },
 "nbformat": 4,
 "nbformat_minor": 5
}
