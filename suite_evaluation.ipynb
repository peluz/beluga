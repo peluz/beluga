{
 "cells": [
  {
   "cell_type": "code",
   "execution_count": null,
   "id": "b214dadb",
   "metadata": {},
   "outputs": [],
   "source": [
    "%load_ext autoreload\n",
    "%autoreload 2\n",
    "\n",
    "import checklist\n",
    "import pickle\n",
    "from checklist.test_suite import TestSuite\n",
    "import checklist\n",
    "import numpy as np\n",
    "import pandas as pd\n",
    "from collections import OrderedDict\n",
    "import pickle\n",
    "import dill\n",
    "from pathlib import Path\n",
    "from tqdm.auto import tqdm\n",
    "\n",
    "from suite_utils import get_test_info"
   ]
  },
  {
   "cell_type": "code",
   "execution_count": null,
   "id": "f759980c",
   "metadata": {},
   "outputs": [],
   "source": [
    "CHECKS = True\n",
    "TRAIN_CONFIG = \"all\"\n",
    "METHOD = \"dropout\"\n",
    "PLUS_IID=True\n",
    "FROM_IID=True"
   ]
  },
  {
   "cell_type": "code",
   "execution_count": null,
   "id": "5d321e61",
   "metadata": {},
   "outputs": [],
   "source": [
    "def get_test_pass_rate(suite, print_results=True):\n",
    "    results = OrderedDict()\n",
    "    for k, v in suite.tests.items():\n",
    "        try:\n",
    "            score = 100 - v.get_stats()['fail_rate']\n",
    "            if print_results:\n",
    "                print(f\"{k}; {score}\")\n",
    "            results[k] = score\n",
    "        except KeyError:\n",
    "            if print_results:\n",
    "                print(f\"{k}; None\")\n",
    "            results[k] = None\n",
    "    return results\n",
    "\n",
    "def fix_run_idxs(suite, ids):\n",
    "    i=0\n",
    "    for func, _ in suite.tests.items():\n",
    "        suite.tests[func].result_indexes = ids[func]\n",
    "        suite.tests[func].run_idxs = np.array(list(OrderedDict.fromkeys(ids[func])))\n",
    "        suite.test_ranges[func] = (i, i+len(ids[func]))\n",
    "        i+=len(ids[func])"
   ]
  },
  {
   "cell_type": "code",
   "execution_count": null,
   "id": "f16e2806",
   "metadata": {},
   "outputs": [],
   "source": [
    "def get_out_results(suite, data_path, task, split, method=\"default\", plus_iid=False, from_iid=False, print_results=True):\n",
    "    if plus_iid:\n",
    "        outPath = data_path/\"-\".join([f\"{split}+iid\",method])\n",
    "        if from_iid:\n",
    "            outPath = data_path/\"-\".join([f\"iid-{split}+iid\",method])\n",
    "    elif task==\"squad\" or method != \"default\":\n",
    "        outPath = data_path/\"-\".join([split,method])\n",
    "    else:\n",
    "        outPath = data_path/split\n",
    "    results = {}\n",
    "    for result in outPath.rglob(\"*\"):\n",
    "        pred_path = result\n",
    "        if task==\"sa\":\n",
    "            suite.run_from_file(pred_path, overwrite=True)\n",
    "        elif task == \"qqp\":\n",
    "            suite.run_from_file(pred_path, overwrite=True, file_format='binary_conf')\n",
    "        elif task == \"squad\":\n",
    "            suite.run_from_file(pred_path, overwrite=True, file_format='pred_only')\n",
    "        if split == \"funcOut\":\n",
    "            test_name = result.name[:-3].replace(\"|\", \"/\")\n",
    "            try:\n",
    "                results[test_name] = 100 - suite.tests[test_name].get_stats()[\"fail_rate\"]\n",
    "            except KeyError:\n",
    "                results[test_name] = \"None\"\n",
    "        elif split == \"classOut\":\n",
    "            class_name = result.name[:-3]\n",
    "            for test_name, test in suite.tests.items():\n",
    "                if test.capability == class_name:\n",
    "                    try:\n",
    "                        results[test_name] = 100 - suite.tests[test_name].get_stats()[\"fail_rate\"]\n",
    "                    except KeyError:\n",
    "                        results[test_name] = \"None\"\n",
    "        elif split == \"aspectOut\":\n",
    "            aspect_name = result.name[:-3]\n",
    "            for test_name, test in suite.tests.items():\n",
    "                if test.form_test_info()[\"type\"] == aspect_name:\n",
    "#                     print(test.summary())\n",
    "                    try:\n",
    "                        results[test_name] = 100 - suite.tests[test_name].get_stats()[\"fail_rate\"]\n",
    "                    except KeyError:\n",
    "                        results[test_name] = \"None\"\n",
    "    if print_results:\n",
    "        for test in suite.tests:\n",
    "            print(test, \";\", results[test])\n",
    "    return results"
   ]
  },
  {
   "cell_type": "code",
   "execution_count": null,
   "id": "de909346",
   "metadata": {},
   "outputs": [],
   "source": [
    "def get_seed_results(suite, data_path, task, print_results=True):\n",
    "    outPath = data_path/\"seeds\"\n",
    "    results = {}\n",
    "    for result in outPath.rglob(\"*\"):\n",
    "        pred_path = result\n",
    "        if task==\"sa\":\n",
    "            suite.run_from_file(pred_path, overwrite=True)\n",
    "        elif task == \"qqp\":\n",
    "            suite.run_from_file(pred_path, overwrite=True, file_format='binary_conf')\n",
    "        elif task == \"squad\":\n",
    "            suite.run_from_file(pred_path, overwrite=True, file_format='pred_only')\n",
    "        for k, v in suite.tests.items():\n",
    "            try:\n",
    "                results.setdefault(k, []).append(100 - v.get_stats()['fail_rate'])\n",
    "            except KeyError:\n",
    "                results.setdefault(k, []).append(None)\n",
    "    if print_results:\n",
    "        for k, v in results.items():\n",
    "            print(f\"{k}; {';'.join([str(pass_rate) for pass_rate in v])}\")\n",
    "    return results"
   ]
  },
  {
   "cell_type": "code",
   "execution_count": null,
   "id": "1709f8e7",
   "metadata": {},
   "outputs": [],
   "source": [
    "def get_random_results(data_path, task):\n",
    "    results = {}\n",
    "    for result in data_path.rglob(\"*random*\"):\n",
    "        pred_path = result\n",
    "        if task==\"sa\":\n",
    "            suite.run_from_file(pred_path, overwrite=True)\n",
    "        elif task == \"qqp\":\n",
    "            suite.run_from_file(pred_path, overwrite=True, file_format='binary_conf')\n",
    "        elif task == \"squad\":\n",
    "            suite.run_from_file(pred_path, overwrite=True, file_format='pred_only')\n",
    "        for k, v in suite.tests.items():\n",
    "            try:\n",
    "                results.setdefault(k, []).append(100 - v.get_stats()['fail_rate'])\n",
    "            except KeyError:\n",
    "                print(f\"{k}; None\")\n",
    "    for k, v in results.items():\n",
    "        print(f\"{k}; {';'.join([str(pass_rate) for pass_rate in v])}\")"
   ]
  },
  {
   "cell_type": "code",
   "execution_count": null,
   "id": "d814a0e0",
   "metadata": {},
   "outputs": [],
   "source": [
    "def get_funcs_dic(suite):\n",
    "    return {n: (t.capability, t.form_test_info()[\"type\"]) for n, t in suite.tests.items()}"
   ]
  },
  {
   "cell_type": "code",
   "execution_count": null,
   "id": "7de73ded",
   "metadata": {},
   "outputs": [],
   "source": [
    "try:\n",
    "    suite_path = './data/release_data/sentiment/sentiment_suite.pkl'\n",
    "    suite = TestSuite.from_file(suite_path)\n",
    "except FileNotFoundError:\n",
    "    print(\"Downloading CheckList release files...\")\n",
    "    ! wget -P \"./data\" https://github.com/marcotcr/checklist/raw/master/release_data.tar.gz\n",
    "    ! tar xvzf data/release_data.tar.gz -C ./data\n",
    "    suite_path = './data/release_data/sentiment/sentiment_suite.pkl'\n",
    "    suite = TestSuite.from_file(suite_path)"
   ]
  },
  {
   "cell_type": "markdown",
   "id": "4f47a44c",
   "metadata": {},
   "source": [
    "## Sentiment"
   ]
  },
  {
   "cell_type": "code",
   "execution_count": null,
   "id": "e3ceb108",
   "metadata": {},
   "outputs": [],
   "source": [
    "pred_path = \"./data/sa/predictions/SST-2/BERT-SST2\""
   ]
  },
  {
   "cell_type": "code",
   "execution_count": null,
   "id": "3a08ff52",
   "metadata": {},
   "outputs": [],
   "source": [
    "suite.run_from_file(pred_path, overwrite=True)"
   ]
  },
  {
   "cell_type": "code",
   "execution_count": null,
   "id": "39613bc8",
   "metadata": {},
   "outputs": [],
   "source": [
    "suite.summary()"
   ]
  },
  {
   "cell_type": "code",
   "execution_count": null,
   "id": "d5f150ee",
   "metadata": {},
   "outputs": [],
   "source": [
    "suite.visual_summary_table()"
   ]
  },
  {
   "cell_type": "code",
   "execution_count": null,
   "id": "783c557e",
   "metadata": {},
   "outputs": [],
   "source": [
    "get_test_info(suite)"
   ]
  },
  {
   "cell_type": "code",
   "execution_count": null,
   "id": "f1d991e5",
   "metadata": {},
   "outputs": [],
   "source": [
    "sa_dic = get_funcs_dic(suite)"
   ]
  },
  {
   "cell_type": "code",
   "execution_count": null,
   "id": "23eccb62",
   "metadata": {},
   "outputs": [],
   "source": [
    "pickle.dump(sa_dic, open(\"./data/sa/func_dic.pkl\", \"wb\"))"
   ]
  },
  {
   "cell_type": "code",
   "execution_count": null,
   "id": "0e90883c",
   "metadata": {},
   "outputs": [],
   "source": [
    "get_test_pass_rate(suite)"
   ]
  },
  {
   "cell_type": "code",
   "execution_count": null,
   "id": "d066af49",
   "metadata": {},
   "outputs": [],
   "source": [
    "pred_path = \"./data/release_data/sentiment/predictions/bert\""
   ]
  },
  {
   "cell_type": "code",
   "execution_count": null,
   "id": "c2202f01",
   "metadata": {},
   "outputs": [],
   "source": [
    "suite.run_from_file(pred_path, overwrite=True)"
   ]
  },
  {
   "cell_type": "code",
   "execution_count": null,
   "id": "5cdc2a15",
   "metadata": {},
   "outputs": [],
   "source": [
    "suite.visual_summary_table()"
   ]
  },
  {
   "cell_type": "code",
   "execution_count": null,
   "id": "3614631a",
   "metadata": {},
   "outputs": [],
   "source": [
    "get_test_pass_rate(suite)"
   ]
  },
  {
   "cell_type": "markdown",
   "id": "646fb8ff",
   "metadata": {},
   "source": [
    "### Our test set"
   ]
  },
  {
   "cell_type": "code",
   "execution_count": null,
   "id": "7deff12f",
   "metadata": {},
   "outputs": [],
   "source": [
    "with open(\"./data/sa/predictions/checklist/test_ids.pkl\", \"rb\") as file:\n",
    "    test_ids = pickle.load(file)"
   ]
  },
  {
   "cell_type": "code",
   "execution_count": null,
   "id": "d28e3c98",
   "metadata": {},
   "outputs": [],
   "source": [
    "fix_run_idxs(suite, test_ids)"
   ]
  },
  {
   "cell_type": "code",
   "execution_count": null,
   "id": "89c9eaa5",
   "metadata": {},
   "outputs": [],
   "source": [
    "if CHECKS:\n",
    "    if PLUS_IID:\n",
    "        pred_path = f'./data/sa/predictions/checklist/BERT-SST2-{TRAIN_CONFIG}+iid-{METHOD}'\n",
    "        if FROM_IID:\n",
    "            pred_path = f'./data/sa/predictions/checklist/BERT-SST2-iid-{TRAIN_CONFIG}+iid-{METHOD}'\n",
    "    elif METHOD == \"default\":\n",
    "        pred_path = f'./data/sa/predictions/checklist/BERT-SST2-{TRAIN_CONFIG}'\n",
    "    else:\n",
    "        pred_path = f'./data/sa/predictions/checklist/BERT-SST2-{TRAIN_CONFIG}-{METHOD}'\n",
    "else:\n",
    "    pred_path = './data/sa/predictions/checklist/BERT-SST2'"
   ]
  },
  {
   "cell_type": "code",
   "execution_count": null,
   "id": "df25218a",
   "metadata": {},
   "outputs": [],
   "source": [
    "suite.run_from_file('./data/sa/predictions/checklist/BERT-SST2', overwrite=True)"
   ]
  },
  {
   "cell_type": "code",
   "execution_count": null,
   "id": "121dee48",
   "metadata": {},
   "outputs": [],
   "source": [
    "suite.run_from_file(pred_path, overwrite=True)"
   ]
  },
  {
   "cell_type": "code",
   "execution_count": null,
   "id": "2b72b7b1",
   "metadata": {
    "scrolled": false
   },
   "outputs": [],
   "source": [
    "suite.visual_summary_table()"
   ]
  },
  {
   "cell_type": "code",
   "execution_count": null,
   "id": "3b0037f4",
   "metadata": {},
   "outputs": [],
   "source": [
    "get_test_pass_rate(suite)"
   ]
  },
  {
   "cell_type": "markdown",
   "id": "c9426d92",
   "metadata": {},
   "source": [
    "### held-out results"
   ]
  },
  {
   "cell_type": "code",
   "execution_count": null,
   "id": "fc35fc9f",
   "metadata": {},
   "outputs": [],
   "source": [
    "data_path = Path(\"./data/sa/predictions/checklist/\")"
   ]
  },
  {
   "cell_type": "code",
   "execution_count": null,
   "id": "d340de19",
   "metadata": {},
   "outputs": [],
   "source": [
    "get_out_results(suite, data_path, \"sa\", \"funcOut\", METHOD, PLUS_IID, FROM_IID)"
   ]
  },
  {
   "cell_type": "code",
   "execution_count": null,
   "id": "a5840843",
   "metadata": {},
   "outputs": [],
   "source": [
    "get_out_results(suite, data_path, \"sa\", \"classOut\", METHOD, PLUS_IID, FROM_IID)"
   ]
  },
  {
   "cell_type": "code",
   "execution_count": null,
   "id": "3f5fb2b9",
   "metadata": {},
   "outputs": [],
   "source": [
    "get_out_results(suite, data_path, \"sa\", \"aspectOut\", METHOD, PLUS_IID, FROM_IID)"
   ]
  },
  {
   "cell_type": "markdown",
   "id": "ebbaadd5",
   "metadata": {},
   "source": [
    "## QQP"
   ]
  },
  {
   "cell_type": "code",
   "execution_count": null,
   "id": "300eeaff",
   "metadata": {},
   "outputs": [],
   "source": [
    "suite_path = './data/release_data/qqp/qqp_suite.pkl'\n",
    "suite = TestSuite.from_file(suite_path)"
   ]
  },
  {
   "cell_type": "code",
   "execution_count": null,
   "id": "3d2ee0cb",
   "metadata": {},
   "outputs": [],
   "source": [
    "with open(\"/home/peluz/Projects/univie/specification-learning-selection/specification-learning-selection-code/data/suites/sa/suite.pkl\", \"wb\") as file:\n",
    "    dill.dump(suite, file, protocol=4)"
   ]
  },
  {
   "cell_type": "code",
   "execution_count": null,
   "id": "249cc486",
   "metadata": {},
   "outputs": [],
   "source": [
    "pred_path = './data/qqp/predictions/qqp/BERT-qqp'\n",
    "suite.run_from_file(pred_path, overwrite=True, file_format='binary_conf')"
   ]
  },
  {
   "cell_type": "code",
   "execution_count": null,
   "id": "ff893bfd",
   "metadata": {},
   "outputs": [],
   "source": [
    "suite.summary()"
   ]
  },
  {
   "cell_type": "code",
   "execution_count": null,
   "id": "99a68a08",
   "metadata": {},
   "outputs": [],
   "source": [
    "suite.visual_summary_table()"
   ]
  },
  {
   "cell_type": "code",
   "execution_count": null,
   "id": "4f30b75e",
   "metadata": {},
   "outputs": [],
   "source": [
    "get_test_info(suite)"
   ]
  },
  {
   "cell_type": "code",
   "execution_count": null,
   "id": "79dce542",
   "metadata": {},
   "outputs": [],
   "source": [
    "suite.tests[\"Order does matter for asymmetric relations\"].labels = 0"
   ]
  },
  {
   "cell_type": "code",
   "execution_count": null,
   "id": "59037fca",
   "metadata": {},
   "outputs": [],
   "source": [
    "suite.save(suite_path)"
   ]
  },
  {
   "cell_type": "code",
   "execution_count": null,
   "id": "0f236114",
   "metadata": {},
   "outputs": [],
   "source": [
    "qqp_dic = get_funcs_dic(suite)"
   ]
  },
  {
   "cell_type": "code",
   "execution_count": null,
   "id": "c5c39177",
   "metadata": {},
   "outputs": [],
   "source": [
    "pickle.dump(qqp_dic, open(\"./data/qqp/func_dic.pkl\", \"wb\"))"
   ]
  },
  {
   "cell_type": "code",
   "execution_count": null,
   "id": "15387187",
   "metadata": {},
   "outputs": [],
   "source": [
    "suite.run_from_file(pred_path, overwrite=True, file_format='binary_conf')"
   ]
  },
  {
   "cell_type": "code",
   "execution_count": null,
   "id": "a50a43af",
   "metadata": {},
   "outputs": [],
   "source": [
    "get_test_pass_rate(suite)"
   ]
  },
  {
   "cell_type": "code",
   "execution_count": null,
   "id": "8ace1106",
   "metadata": {},
   "outputs": [],
   "source": [
    "pred_path = './data/release_data/qqp/predictions/bert'\n",
    "suite.run_from_file(pred_path, overwrite=True, file_format='binary_conf')"
   ]
  },
  {
   "cell_type": "code",
   "execution_count": null,
   "id": "11b2c23c",
   "metadata": {},
   "outputs": [],
   "source": [
    "get_test_pass_rate(suite)"
   ]
  },
  {
   "cell_type": "markdown",
   "id": "a2eead9a",
   "metadata": {},
   "source": [
    "### Our test set"
   ]
  },
  {
   "cell_type": "code",
   "execution_count": null,
   "id": "98a9f1c9",
   "metadata": {},
   "outputs": [],
   "source": [
    "with open(\"./data/qqp/predictions/checklist/test_ids.pkl\", \"rb\") as file:\n",
    "    test_ids = pickle.load(file)"
   ]
  },
  {
   "cell_type": "code",
   "execution_count": null,
   "id": "9fde3ffc",
   "metadata": {},
   "outputs": [],
   "source": [
    "if CHECKS:\n",
    "    if PLUS_IID:\n",
    "        pred_path = f'./data/qqp/predictions/checklist/BERT-qqp-{TRAIN_CONFIG}+iid-{METHOD}'\n",
    "        if FROM_IID:\n",
    "            pred_path = f'./data/qqp/predictions/checklist/BERT-qqp-iid-{TRAIN_CONFIG}+iid-{METHOD}'\n",
    "    elif METHOD == \"default\":\n",
    "        pred_path = f'./data/qqp/predictions/checklist/BERT-qqp-{TRAIN_CONFIG}'\n",
    "    else:\n",
    "        pred_path = f'./data/qqp/predictions/checklist/BERT-qqp-{TRAIN_CONFIG}-{METHOD}'\n",
    "else:\n",
    "    pred_path = './data/qqp/predictions/checklist/BERT-qqp'"
   ]
  },
  {
   "cell_type": "code",
   "execution_count": null,
   "id": "df041c0e",
   "metadata": {},
   "outputs": [],
   "source": [
    "fix_run_idxs(suite, test_ids)"
   ]
  },
  {
   "cell_type": "code",
   "execution_count": null,
   "id": "846c3160",
   "metadata": {},
   "outputs": [],
   "source": [
    "suite.run_from_file(pred_path, overwrite=True, file_format='binary_conf')"
   ]
  },
  {
   "cell_type": "code",
   "execution_count": null,
   "id": "90cbb6b5",
   "metadata": {},
   "outputs": [],
   "source": [
    "suite.visual_summary_table()"
   ]
  },
  {
   "cell_type": "code",
   "execution_count": null,
   "id": "c891b1b2",
   "metadata": {
    "scrolled": true
   },
   "outputs": [],
   "source": [
    "get_test_pass_rate(suite)"
   ]
  },
  {
   "cell_type": "markdown",
   "id": "74011fa9",
   "metadata": {},
   "source": [
    "### held-out results"
   ]
  },
  {
   "cell_type": "code",
   "execution_count": null,
   "id": "21839eb5",
   "metadata": {},
   "outputs": [],
   "source": [
    "data_path = Path(\"./data/qqp/predictions/checklist/\")"
   ]
  },
  {
   "cell_type": "code",
   "execution_count": null,
   "id": "a9002e59",
   "metadata": {},
   "outputs": [],
   "source": [
    "get_out_results(suite, data_path, \"qqp\", \"funcOut\", METHOD, plus_iid=PLUS_IID, from_iid=FROM_IID)"
   ]
  },
  {
   "cell_type": "code",
   "execution_count": null,
   "id": "fd0d2256",
   "metadata": {
    "scrolled": false
   },
   "outputs": [],
   "source": [
    "get_out_results(suite, data_path, \"qqp\", \"classOut\", METHOD, plus_iid=PLUS_IID, from_iid=FROM_IID)"
   ]
  },
  {
   "cell_type": "code",
   "execution_count": null,
   "id": "962c7e89",
   "metadata": {},
   "outputs": [],
   "source": [
    "get_out_results(suite, data_path, \"qqp\", \"aspectOut\", METHOD, plus_iid=PLUS_IID, from_iid=FROM_IID)"
   ]
  },
  {
   "cell_type": "markdown",
   "id": "f38a1460",
   "metadata": {},
   "source": [
    "## SQuAD"
   ]
  },
  {
   "cell_type": "code",
   "execution_count": null,
   "id": "3a5ef972",
   "metadata": {},
   "outputs": [],
   "source": [
    "suite_path = 'data/release_data/squad/squad_suite.pkl'\n",
    "suite = TestSuite.from_file(suite_path)"
   ]
  },
  {
   "cell_type": "code",
   "execution_count": null,
   "id": "15a5ae13",
   "metadata": {},
   "outputs": [],
   "source": [
    "pred_path = 'data/squad/predictions/squad/BERT-squad'\n",
    "suite.run_from_file(pred_path, overwrite=True, file_format='pred_only')"
   ]
  },
  {
   "cell_type": "code",
   "execution_count": null,
   "id": "f24b5e8b",
   "metadata": {},
   "outputs": [],
   "source": [
    "suite.summary()"
   ]
  },
  {
   "cell_type": "code",
   "execution_count": null,
   "id": "9b826f67",
   "metadata": {},
   "outputs": [],
   "source": [
    "suite.visual_summary_table()"
   ]
  },
  {
   "cell_type": "code",
   "execution_count": null,
   "id": "50935445",
   "metadata": {},
   "outputs": [],
   "source": [
    "squad_dic = get_funcs_dic(suite)"
   ]
  },
  {
   "cell_type": "code",
   "execution_count": null,
   "id": "a38bfa78",
   "metadata": {},
   "outputs": [],
   "source": [
    "pickle.dump(squad_dic, open(\"./data/squad/func_dic.pkl\", \"wb\"))"
   ]
  },
  {
   "cell_type": "code",
   "execution_count": null,
   "id": "b9d2ded9",
   "metadata": {},
   "outputs": [],
   "source": [
    "get_test_info(suite)"
   ]
  },
  {
   "cell_type": "code",
   "execution_count": null,
   "id": "04216164",
   "metadata": {},
   "outputs": [],
   "source": [
    "get_test_pass_rate(suite)"
   ]
  },
  {
   "cell_type": "code",
   "execution_count": null,
   "id": "e82145f4",
   "metadata": {},
   "outputs": [],
   "source": [
    "pred_path = 'data/release_data/squad/predictions/bert'\n",
    "suite.run_from_file(pred_path, overwrite=True, file_format='pred_only')\n",
    "get_test_pass_rate(suite)"
   ]
  },
  {
   "cell_type": "markdown",
   "id": "f47c1a55",
   "metadata": {},
   "source": [
    "### Our test set"
   ]
  },
  {
   "cell_type": "code",
   "execution_count": null,
   "id": "c33828d2",
   "metadata": {},
   "outputs": [],
   "source": [
    "if CHECKS:\n",
    "    if PLUS_IID:\n",
    "        pred_path = f'./data/squad/predictions/checklist/BERT-squad-{TRAIN_CONFIG}+iid-{METHOD}'\n",
    "        if FROM_IID:\n",
    "            pred_path = f'./data/squad/predictions/checklist/BERT-squad-iid-{TRAIN_CONFIG}+iid-{METHOD}'\n",
    "    elif METHOD == \"default\":\n",
    "        pred_path = f'./data/squad/predictions/checklist/BERT-squad-{TRAIN_CONFIG}'\n",
    "    else:\n",
    "        pred_path = f'./data/squad/predictions/checklist/BERT-squad-{TRAIN_CONFIG}-{METHOD}'\n",
    "else:\n",
    "    pred_path = './data/squad/predictions/checklist/BERT-squad'"
   ]
  },
  {
   "cell_type": "code",
   "execution_count": null,
   "id": "e36d0a87",
   "metadata": {},
   "outputs": [],
   "source": [
    "import pickle\n",
    "\n",
    "with open(\"./data/squad/predictions/checklist/test_ids.pkl\", \"rb\") as file:\n",
    "    test_ids = pickle.load(file)"
   ]
  },
  {
   "cell_type": "code",
   "execution_count": null,
   "id": "eb0ced39",
   "metadata": {},
   "outputs": [],
   "source": [
    "fix_run_idxs(suite, test_ids)"
   ]
  },
  {
   "cell_type": "code",
   "execution_count": null,
   "id": "eba4ff8f",
   "metadata": {},
   "outputs": [],
   "source": [
    "pred_path = \"./data/squad/predictions/checklist/iid-funcOut+iid-fish/Basic coref, his | herOut\""
   ]
  },
  {
   "cell_type": "code",
   "execution_count": null,
   "id": "f7d3f817",
   "metadata": {},
   "outputs": [],
   "source": [
    "suite.run_from_file(pred_path, overwrite=True, file_format='pred_only')"
   ]
  },
  {
   "cell_type": "code",
   "execution_count": null,
   "id": "0f188adb",
   "metadata": {},
   "outputs": [],
   "source": [
    "suite.visual_summary_table()"
   ]
  },
  {
   "cell_type": "code",
   "execution_count": null,
   "id": "b4d826ca",
   "metadata": {},
   "outputs": [],
   "source": [
    "get_test_pass_rate(suite)"
   ]
  },
  {
   "cell_type": "markdown",
   "id": "7e4aa3cf",
   "metadata": {},
   "source": [
    "### held-out results"
   ]
  },
  {
   "cell_type": "code",
   "execution_count": null,
   "id": "bbc7add4",
   "metadata": {},
   "outputs": [],
   "source": [
    "data_path = Path(\"./data/squad/predictions/checklist/\")"
   ]
  },
  {
   "cell_type": "code",
   "execution_count": null,
   "id": "52d872e6",
   "metadata": {},
   "outputs": [],
   "source": [
    "get_out_results(suite, data_path, \"squad\", \"funcOut\", METHOD, plus_iid=PLUS_IID, from_iid=FROM_IID)"
   ]
  },
  {
   "cell_type": "code",
   "execution_count": null,
   "id": "98e68285",
   "metadata": {},
   "outputs": [],
   "source": [
    "get_out_results(suite, data_path, \"squad\", \"classOut\", METHOD, plus_iid=PLUS_IID, from_iid=FROM_IID)"
   ]
  },
  {
   "cell_type": "code",
   "execution_count": null,
   "id": "bfa3bcad",
   "metadata": {},
   "outputs": [],
   "source": [
    "get_out_results(suite, data_path, \"squad\", \"aspectOut\", METHOD, plus_iid=PLUS_IID, from_iid=FROM_IID)"
   ]
  },
  {
   "cell_type": "markdown",
   "id": "8e48655c",
   "metadata": {},
   "source": [
    "## Generate csvs with fine-grained results"
   ]
  },
  {
   "cell_type": "code",
   "execution_count": null,
   "id": "469fa192",
   "metadata": {},
   "outputs": [],
   "source": [
    "def get_results(task):\n",
    "    if task == \"sa\":\n",
    "        suite_path = './data/release_data/sentiment/sentiment_suite.pkl'\n",
    "        pred_path = './data/sa/predictions/checklist/BERT-SST2'\n",
    "        task_data = \"SST2\"\n",
    "    elif task == \"qqp\":\n",
    "        suite_path = './data/release_data/qqp/qqp_suite.pkl'\n",
    "        pred_path = './data/qqp/predictions/checklist/BERT-qqp'\n",
    "        task_data = task\n",
    "    else:\n",
    "        suite_path = './data/release_data/squad/squad_suite.pkl'\n",
    "        pred_path = './data/squad/predictions/checklist/BERT-squad'\n",
    "        task_data = task\n",
    "    suite = TestSuite.from_file(suite_path)\n",
    "    \n",
    "    results = pd.DataFrame(columns=[\"method\", \"config\", \"score\", *suite.tests.keys()])\n",
    "    \n",
    "    with open(f\"./data/{task}/predictions/checklist/test_ids.pkl\", \"rb\") as file:\n",
    "        test_ids = pickle.load(file)\n",
    "    fix_run_idxs(suite, test_ids)\n",
    "    if task==\"sa\":\n",
    "        suite.run_from_file(pred_path, overwrite=True)\n",
    "    elif task == \"qqp\":\n",
    "        suite.run_from_file(pred_path, overwrite=True, file_format='binary_conf')\n",
    "    elif task == \"squad\":\n",
    "        suite.run_from_file(pred_path, overwrite=True, file_format='pred_only')\n",
    "    scores = get_test_pass_rate(suite, print_results=False)\n",
    "    method = \"default\"\n",
    "    config = \"IID\"\n",
    "    score = \"standard\"\n",
    "    scores[\"method\"] = method\n",
    "    scores[\"config\"] = config\n",
    "    scores[\"score\"] = score\n",
    "    results = results.append(scores, ignore_index=True)\n",
    "    \n",
    "    for config in [\"IID-T\", \"IID+T\", \"IID-(IID+T)\"]:\n",
    "        print(f\"Checking config {config}\")\n",
    "        if config == \"IID-T\":\n",
    "            plus_iid = from_iid = False\n",
    "        elif config == \"IID+T\":\n",
    "            plus_iid = True\n",
    "            from_iid = False\n",
    "        else:\n",
    "            plus_iid = from_iid = True\n",
    "        for method in [\"default\", \"l2\", \"dropout\", \"freeze\", \"lp-ft\", \"irm\", \"dro\", \"fish\"]:\n",
    "            print(f\"method {method}\")\n",
    "            for score in [\"seen\", \"funcOut\", \"classOut\", \"aspectOut\"]:\n",
    "                print(f\"score {score}\")\n",
    "                if score == \"seen\":\n",
    "                    if plus_iid:\n",
    "                        pred_path = f'./data/{task}/predictions/checklist/BERT-{task_data}-all+iid-{method}'\n",
    "                        if from_iid:\n",
    "                            pred_path = f'./data/{task}/predictions/checklist/BERT-{task_data}-iid-all+iid-{method}'\n",
    "                    elif method == \"default\":\n",
    "                        pred_path = f'./data/{task}/predictions/checklist/BERT-{task_data}-all'\n",
    "                    else:\n",
    "                        pred_path = f'./data/{task}/predictions/checklist/BERT-{task_data}-all-{method}'\n",
    "                    try:\n",
    "                        if task==\"sa\":\n",
    "                            suite.run_from_file(pred_path, overwrite=True)\n",
    "                        elif task == \"qqp\":\n",
    "                            suite.run_from_file(pred_path, overwrite=True, file_format='binary_conf')\n",
    "                        elif task == \"squad\":\n",
    "                            suite.run_from_file(pred_path, overwrite=True, file_format='pred_only')\n",
    "                    except:\n",
    "                        break\n",
    "                    scores = get_test_pass_rate(suite, print_results=False)\n",
    "                else:\n",
    "                    scores = get_out_results(suite, Path(f\"./data/{task}/predictions/checklist/\"), task, score, method, plus_iid=plus_iid, from_iid=from_iid, print_results=False)\n",
    "                scores[\"method\"] = method\n",
    "                scores[\"config\"] = config\n",
    "                scores[\"score\"] = score\n",
    "                results = results.append(scores, ignore_index=True)\n",
    "                if task == \"sa\":\n",
    "                    results = results.dropna(axis=1)\n",
    "    return results"
   ]
  },
  {
   "cell_type": "markdown",
   "id": "adef411a",
   "metadata": {},
   "source": [
    "### SA"
   ]
  },
  {
   "cell_type": "code",
   "execution_count": null,
   "id": "5cf7a462",
   "metadata": {},
   "outputs": [],
   "source": [
    "sa_results = get_results(\"sa\")"
   ]
  },
  {
   "cell_type": "code",
   "execution_count": null,
   "id": "5094d967",
   "metadata": {},
   "outputs": [],
   "source": [
    "sa_results"
   ]
  },
  {
   "cell_type": "code",
   "execution_count": null,
   "id": "46c3e93c",
   "metadata": {},
   "outputs": [],
   "source": [
    "sa_results.mean(axis=1)"
   ]
  },
  {
   "cell_type": "code",
   "execution_count": null,
   "id": "c5bda61e",
   "metadata": {},
   "outputs": [],
   "source": [
    "sa_results.to_csv('data/sa/results_fine.csv', index=False)"
   ]
  },
  {
   "cell_type": "markdown",
   "id": "6767905c",
   "metadata": {},
   "source": [
    "### QQP"
   ]
  },
  {
   "cell_type": "code",
   "execution_count": null,
   "id": "2bb2fcb4",
   "metadata": {},
   "outputs": [],
   "source": [
    "qqp_results = get_results(\"qqp\")"
   ]
  },
  {
   "cell_type": "code",
   "execution_count": null,
   "id": "dd64c978",
   "metadata": {},
   "outputs": [],
   "source": [
    "qqp_results"
   ]
  },
  {
   "cell_type": "code",
   "execution_count": null,
   "id": "e873f981",
   "metadata": {},
   "outputs": [],
   "source": [
    "qqp_results.mean(axis=1)"
   ]
  },
  {
   "cell_type": "code",
   "execution_count": null,
   "id": "803993c3",
   "metadata": {},
   "outputs": [],
   "source": [
    "qqp_results.to_csv('data/qqp/results_fine.csv', index=False)"
   ]
  },
  {
   "cell_type": "markdown",
   "id": "95ac9f2e",
   "metadata": {},
   "source": [
    "### Squad"
   ]
  },
  {
   "cell_type": "code",
   "execution_count": null,
   "id": "70c0f4a6",
   "metadata": {},
   "outputs": [],
   "source": [
    "squad_results = get_results(\"squad\")"
   ]
  },
  {
   "cell_type": "code",
   "execution_count": null,
   "id": "aa15c52c",
   "metadata": {},
   "outputs": [],
   "source": [
    "squad_results"
   ]
  },
  {
   "cell_type": "code",
   "execution_count": null,
   "id": "e8404670",
   "metadata": {},
   "outputs": [],
   "source": [
    "squad_results.mean(axis=1)"
   ]
  },
  {
   "cell_type": "code",
   "execution_count": null,
   "id": "102e0bda",
   "metadata": {},
   "outputs": [],
   "source": [
    "squad_results.to_csv('data/squad/results_fine.csv', index=False)"
   ]
  },
  {
   "cell_type": "markdown",
   "id": "853f818f",
   "metadata": {},
   "source": [
    "## Generate suite hits"
   ]
  },
  {
   "cell_type": "code",
   "execution_count": null,
   "id": "21b1dbfc",
   "metadata": {},
   "outputs": [],
   "source": [
    "def get_test_hits(suite):\n",
    "    results = OrderedDict()\n",
    "    for k, v in suite.tests.items():\n",
    "        if k in ['\"used to\" should reduce', \"reducers\"]:\n",
    "            continue\n",
    "        filtered = v.filtered_idxs()\n",
    "        fails = v.fail_idxs()\n",
    "        n_tests = v.get_stats().testcases_run\n",
    "        hits = np.ones(n_tests)\n",
    "        hits[fails] = 0\n",
    "        hits[filtered] = np.nan\n",
    "        results[k] = hits\n",
    "    return results"
   ]
  },
  {
   "cell_type": "code",
   "execution_count": null,
   "id": "373032a1",
   "metadata": {},
   "outputs": [],
   "source": [
    "def get_out_hits(suite, data_path, task, split, method=\"default\", plus_iid=False, from_iid=False):\n",
    "    if plus_iid:\n",
    "        outPath = data_path/\"-\".join([f\"{split}+iid\",method])\n",
    "        if from_iid:\n",
    "            outPath = data_path/\"-\".join([f\"iid-{split}+iid\",method])\n",
    "    elif task==\"squad\" or method != \"default\":\n",
    "        outPath = data_path/\"-\".join([split,method])\n",
    "    else:\n",
    "        outPath = data_path/split\n",
    "    results = {}\n",
    "    for result in outPath.rglob(\"*\"):\n",
    "        pred_path = result\n",
    "        if task==\"sa\":\n",
    "            suite.run_from_file(pred_path, overwrite=True)\n",
    "        elif task == \"qqp\":\n",
    "            suite.run_from_file(pred_path, overwrite=True, file_format='binary_conf')\n",
    "        elif task == \"squad\":\n",
    "            suite.run_from_file(pred_path, overwrite=True, file_format='pred_only')\n",
    "        funcs = []\n",
    "        if split == \"funcOut\":\n",
    "            funcs.append(result.name[:-3].replace(\"|\", \"/\"))\n",
    "        elif split == \"classOut\":\n",
    "            class_name = result.name[:-3]\n",
    "            for test_name, test in suite.tests.items():\n",
    "                if test.capability == class_name:\n",
    "                    funcs.append(test_name)\n",
    "        elif split == \"aspectOut\":\n",
    "            aspect_name = result.name[:-3]\n",
    "            for test_name, test in suite.tests.items():\n",
    "                if test.form_test_info()[\"type\"] == aspect_name:\n",
    "                    funcs.append(test_name)\n",
    "        for func in funcs:\n",
    "            if func in ['\"used to\" should reduce', \"reducers\"]:\n",
    "                continue\n",
    "            v = suite.tests[func]\n",
    "            filtered = v.filtered_idxs()\n",
    "            fails = v.fail_idxs()\n",
    "            n_tests = v.get_stats().testcases_run\n",
    "            hits = np.ones(n_tests)\n",
    "            hits[fails] = 0\n",
    "            hits[filtered] = np.nan\n",
    "            results[func] = hits\n",
    "    return results"
   ]
  },
  {
   "cell_type": "code",
   "execution_count": null,
   "id": "8a347aa3",
   "metadata": {},
   "outputs": [],
   "source": [
    "def get_all_hits(task):\n",
    "    if task == \"sa\":\n",
    "        suite_path = './data/release_data/sentiment/sentiment_suite.pkl'\n",
    "        pred_path = './data/sa/predictions/checklist/BERT-SST2'\n",
    "        task_data = \"SST2\"\n",
    "    elif task == \"qqp\":\n",
    "        suite_path = './data/release_data/qqp/qqp_suite.pkl'\n",
    "        pred_path = './data/qqp/predictions/checklist/BERT-qqp'\n",
    "        task_data = task\n",
    "    else:\n",
    "        suite_path = './data/release_data/squad/squad_suite.pkl'\n",
    "        pred_path = './data/squad/predictions/checklist/BERT-squad'\n",
    "        task_data = task\n",
    "    suite = TestSuite.from_file(suite_path)\n",
    "    \n",
    "    results = {}\n",
    "    \n",
    "    with open(f\"./data/{task}/predictions/checklist/test_ids.pkl\", \"rb\") as file:\n",
    "        test_ids = pickle.load(file)\n",
    "    fix_run_idxs(suite, test_ids)\n",
    "    if task==\"sa\":\n",
    "        suite.run_from_file(pred_path, overwrite=True)\n",
    "    elif task == \"qqp\":\n",
    "        suite.run_from_file(pred_path, overwrite=True, file_format='binary_conf')\n",
    "    elif task == \"squad\":\n",
    "        suite.run_from_file(pred_path, overwrite=True, file_format='pred_only')\n",
    "    hits = get_test_hits(suite)\n",
    "\n",
    "    results[\"baseline\"] = hits\n",
    "    \n",
    "    for config in [\"iid-t\", \"iid+t\", \"iid-iid+t\"]:\n",
    "        print(f\"Checking config {config}\")\n",
    "        if config == \"iid-t\":\n",
    "            plus_iid = from_iid = False\n",
    "        elif config == \"iid+t\":\n",
    "            plus_iid = True\n",
    "            from_iid = False\n",
    "        else:\n",
    "            plus_iid = from_iid = True\n",
    "        for method in [\"default\", \"l2\", \"dropout\", \"freeze\", \"lp-ft\", \"irm\", \"dro\", \"fish\"]:\n",
    "            print(f\"method {method}\")\n",
    "            for score in [\"seen\", \"funcOut\", \"classOut\", \"aspectOut\"]:\n",
    "                print(f\"score {score}\")\n",
    "                if score == \"seen\":\n",
    "                    if plus_iid:\n",
    "                        pred_path = f'./data/{task}/predictions/checklist/BERT-{task_data}-all+iid-{method}'\n",
    "                        if from_iid:\n",
    "                            pred_path = f'./data/{task}/predictions/checklist/BERT-{task_data}-iid-all+iid-{method}'\n",
    "                    elif method == \"default\":\n",
    "                        pred_path = f'./data/{task}/predictions/checklist/BERT-{task_data}-all'\n",
    "                    else:\n",
    "                        pred_path = f'./data/{task}/predictions/checklist/BERT-{task_data}-all-{method}'\n",
    "                    try:\n",
    "                        if task==\"sa\":\n",
    "                            suite.run_from_file(pred_path, overwrite=True)\n",
    "                        elif task == \"qqp\":\n",
    "                            suite.run_from_file(pred_path, overwrite=True, file_format='binary_conf')\n",
    "                        elif task == \"squad\":\n",
    "                            suite.run_from_file(pred_path, overwrite=True, file_format='pred_only')\n",
    "                    except:\n",
    "                        break\n",
    "                    scores = get_test_hits(suite)\n",
    "                else:\n",
    "                    scores = get_out_hits(suite, Path(f\"./data/{task}/predictions/checklist/\"), task, score, method, plus_iid=plus_iid, from_iid=from_iid)\n",
    "                results.setdefault((config, method), {})[score] = scores\n",
    "    return results"
   ]
  },
  {
   "cell_type": "code",
   "execution_count": null,
   "id": "f1a79f43",
   "metadata": {},
   "outputs": [],
   "source": [
    "sa_hits = get_all_hits(\"sa\")"
   ]
  },
  {
   "cell_type": "code",
   "execution_count": null,
   "id": "5aabdf97",
   "metadata": {},
   "outputs": [],
   "source": [
    "qqp_hits = get_all_hits(\"qqp\")"
   ]
  },
  {
   "cell_type": "code",
   "execution_count": null,
   "id": "09f9f5ae",
   "metadata": {},
   "outputs": [],
   "source": [
    "squad_hits = get_all_hits(\"squad\")"
   ]
  },
  {
   "cell_type": "code",
   "execution_count": null,
   "id": "fb67676f",
   "metadata": {},
   "outputs": [],
   "source": [
    "all_hits = {\n",
    "    \"sa\": sa_hits,\n",
    "    \"qqp\": qqp_hits,\n",
    "    \"squad\": squad_hits\n",
    "}"
   ]
  },
  {
   "cell_type": "code",
   "execution_count": null,
   "id": "b0d27c3a",
   "metadata": {},
   "outputs": [],
   "source": [
    "with open(\"./data/suite_hits.pkl\", \"wb\") as file:\n",
    "    pickle.dump(all_hits, file, protocol=4)"
   ]
  },
  {
   "cell_type": "code",
   "execution_count": null,
   "id": "89aecca9",
   "metadata": {},
   "outputs": [],
   "source": [
    "np.mean([np.nanmean(v) for v in all_hits[\"sa\"][(\"iid-t\", \"l2\")][\"classOut\"].values()])"
   ]
  },
  {
   "cell_type": "code",
   "execution_count": null,
   "id": "9fed4dba",
   "metadata": {},
   "outputs": [],
   "source": [
    "for k, v in all_hits[\"sa\"][(\"iid-t\", \"l2\")][\"classOut\"].items():\n",
    "    print(k)\n",
    "    print(v)\n",
    "    print(all_hits[\"sa\"][(\"iid-t\", \"l2\")][\"funcOut\"][k])\n",
    "    print()"
   ]
  },
  {
   "cell_type": "code",
   "execution_count": null,
   "id": "4683038d",
   "metadata": {},
   "outputs": [],
   "source": [
    "all_hits[\"sa\"][(\"iid-t\", \"l2\")][\"funcOut\"]"
   ]
  },
  {
   "cell_type": "code",
   "execution_count": null,
   "id": "de994261",
   "metadata": {},
   "outputs": [],
   "source": [
    "np.sum([sum(~np.isnan(v)) for k, v in all_hits[\"sa\"][(\"iid-t\", \"l2\")][\"classOut\"].items()])"
   ]
  },
  {
   "cell_type": "code",
   "execution_count": null,
   "id": "d4f659a3",
   "metadata": {},
   "outputs": [],
   "source": []
  }
 ],
 "metadata": {
  "kernelspec": {
   "display_name": "checkList",
   "language": "python",
   "name": "checklist"
  },
  "language_info": {
   "codemirror_mode": {
    "name": "ipython",
    "version": 3
   },
   "file_extension": ".py",
   "mimetype": "text/x-python",
   "name": "python",
   "nbconvert_exporter": "python",
   "pygments_lexer": "ipython3",
   "version": "3.6.15"
  }
 },
 "nbformat": 4,
 "nbformat_minor": 5
}
